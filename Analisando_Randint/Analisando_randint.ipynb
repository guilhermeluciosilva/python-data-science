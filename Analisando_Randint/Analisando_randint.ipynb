{
  "nbformat": 4,
  "nbformat_minor": 0,
  "metadata": {
    "colab": {
      "name": "Analisando_Randint.ipynb",
      "provenance": [],
      "include_colab_link": true
    },
    "kernelspec": {
      "name": "python3",
      "display_name": "Python 3"
    }
  },
  "cells": [
    {
      "cell_type": "markdown",
      "metadata": {
        "id": "view-in-github",
        "colab_type": "text"
      },
      "source": [
        "<a href=\"https://colab.research.google.com/github/guilhermeluciosilva/python-data-science/blob/master/Analisando_Randint/Analisando_randint.ipynb\" target=\"_parent\"><img src=\"https://colab.research.google.com/assets/colab-badge.svg\" alt=\"Open In Colab\"/></a>"
      ]
    },
    {
      "cell_type": "code",
      "metadata": {
        "id": "Qa6lKWDo6uyI",
        "colab_type": "code",
        "colab": {
          "base_uri": "https://localhost:8080/",
          "height": 359
        },
        "outputId": "49d15303-eeeb-445e-9b5b-41438e4aafc1"
      },
      "source": [
        "import pandas as pd\n",
        "from random import randint\n",
        "\n",
        "list0 = list1 = list2 = list3 = list4 = list5 = list6 = list7 = list8 = list9 = []\n",
        "\n",
        "#gerando nossos dados\n",
        "for x in range(0, 1000000):\n",
        "  list0.append(randint(0, 99))\n",
        "  list1.append(randint(0, 99))\n",
        "  list2.append(randint(0, 99))\n",
        "  list3.append(randint(0, 99))\n",
        "  list4.append(randint(0, 99))\n",
        "  list5.append(randint(0, 99))\n",
        "  list6.append(randint(0, 99))\n",
        "  list7.append(randint(0, 99))\n",
        "  list8.append(randint(0, 99))\n",
        "  list9.append(randint(0, 99))\n",
        "\n",
        "\n",
        "dados = pd.DataFrame(list0, columns = [\"numeros_aleatorios\"]) #criando nossa planilha\n",
        "\n",
        "dados.head(10)"
      ],
      "execution_count": 1,
      "outputs": [
        {
          "output_type": "execute_result",
          "data": {
            "text/html": [
              "<div>\n",
              "<style scoped>\n",
              "    .dataframe tbody tr th:only-of-type {\n",
              "        vertical-align: middle;\n",
              "    }\n",
              "\n",
              "    .dataframe tbody tr th {\n",
              "        vertical-align: top;\n",
              "    }\n",
              "\n",
              "    .dataframe thead th {\n",
              "        text-align: right;\n",
              "    }\n",
              "</style>\n",
              "<table border=\"1\" class=\"dataframe\">\n",
              "  <thead>\n",
              "    <tr style=\"text-align: right;\">\n",
              "      <th></th>\n",
              "      <th>numeros_aleatorios</th>\n",
              "    </tr>\n",
              "  </thead>\n",
              "  <tbody>\n",
              "    <tr>\n",
              "      <th>0</th>\n",
              "      <td>19</td>\n",
              "    </tr>\n",
              "    <tr>\n",
              "      <th>1</th>\n",
              "      <td>23</td>\n",
              "    </tr>\n",
              "    <tr>\n",
              "      <th>2</th>\n",
              "      <td>99</td>\n",
              "    </tr>\n",
              "    <tr>\n",
              "      <th>3</th>\n",
              "      <td>29</td>\n",
              "    </tr>\n",
              "    <tr>\n",
              "      <th>4</th>\n",
              "      <td>79</td>\n",
              "    </tr>\n",
              "    <tr>\n",
              "      <th>5</th>\n",
              "      <td>49</td>\n",
              "    </tr>\n",
              "    <tr>\n",
              "      <th>6</th>\n",
              "      <td>39</td>\n",
              "    </tr>\n",
              "    <tr>\n",
              "      <th>7</th>\n",
              "      <td>26</td>\n",
              "    </tr>\n",
              "    <tr>\n",
              "      <th>8</th>\n",
              "      <td>15</td>\n",
              "    </tr>\n",
              "    <tr>\n",
              "      <th>9</th>\n",
              "      <td>56</td>\n",
              "    </tr>\n",
              "  </tbody>\n",
              "</table>\n",
              "</div>"
            ],
            "text/plain": [
              "   numeros_aleatorios\n",
              "0                  19\n",
              "1                  23\n",
              "2                  99\n",
              "3                  29\n",
              "4                  79\n",
              "5                  49\n",
              "6                  39\n",
              "7                  26\n",
              "8                  15\n",
              "9                  56"
            ]
          },
          "metadata": {
            "tags": []
          },
          "execution_count": 1
        }
      ]
    },
    {
      "cell_type": "code",
      "metadata": {
        "id": "Fh3MiiZa17CL",
        "colab_type": "code",
        "colab": {
          "base_uri": "https://localhost:8080/",
          "height": 221
        },
        "outputId": "e1c6430d-5aba-41de-8b22-f3e99601d380"
      },
      "source": [
        "dados_counts = pd.value_counts(dados['numeros_aleatorios'])\n",
        "dados_counts"
      ],
      "execution_count": 2,
      "outputs": [
        {
          "output_type": "execute_result",
          "data": {
            "text/plain": [
              "22    100832\n",
              "71    100624\n",
              "60    100561\n",
              "37    100546\n",
              "62    100511\n",
              "       ...  \n",
              "63     99546\n",
              "36     99496\n",
              "21     99310\n",
              "81     99287\n",
              "41     99181\n",
              "Name: numeros_aleatorios, Length: 100, dtype: int64"
            ]
          },
          "metadata": {
            "tags": []
          },
          "execution_count": 2
        }
      ]
    },
    {
      "cell_type": "code",
      "metadata": {
        "id": "HpVTrwP94jlk",
        "colab_type": "code",
        "colab": {
          "base_uri": "https://localhost:8080/",
          "height": 221
        },
        "outputId": "6563bee4-1fe6-48ad-bc1a-6aa7ba90a51f"
      },
      "source": [
        "dados_counts_index = dados_counts.sort_index()\n",
        "dados_counts_index.head(100)"
      ],
      "execution_count": 3,
      "outputs": [
        {
          "output_type": "execute_result",
          "data": {
            "text/plain": [
              "0     100038\n",
              "1      99996\n",
              "2     100159\n",
              "3      99980\n",
              "4     100373\n",
              "       ...  \n",
              "95     99951\n",
              "96    100293\n",
              "97    100089\n",
              "98     99830\n",
              "99    100149\n",
              "Name: numeros_aleatorios, Length: 100, dtype: int64"
            ]
          },
          "metadata": {
            "tags": []
          },
          "execution_count": 3
        }
      ]
    },
    {
      "cell_type": "code",
      "metadata": {
        "id": "B_n2ke8f5OH9",
        "colab_type": "code",
        "colab": {
          "base_uri": "https://localhost:8080/",
          "height": 282
        },
        "outputId": "38d83b3a-c03f-458b-e327-d8a4d16c4c94"
      },
      "source": [
        "dados_counts_index.plot()"
      ],
      "execution_count": 4,
      "outputs": [
        {
          "output_type": "execute_result",
          "data": {
            "text/plain": [
              "<matplotlib.axes._subplots.AxesSubplot at 0x7f96910ae9b0>"
            ]
          },
          "metadata": {
            "tags": []
          },
          "execution_count": 4
        },
        {
          "output_type": "display_data",
          "data": {
            "image/png": "[encoded data removed]",
            "text/plain": [
              "<Figure size 432x288 with 1 Axes>"
            ]
          },
          "metadata": {
            "tags": [],
            "needs_background": "light"
          }
        }
      ]
    }
  ]
}