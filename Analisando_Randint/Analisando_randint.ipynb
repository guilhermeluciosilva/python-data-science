{
  "nbformat": 4,
  "nbformat_minor": 0,
  "metadata": {
    "colab": {
      "name": "Analisando_Randint.ipynb",
      "provenance": []
    },
    "kernelspec": {
      "name": "python3",
      "display_name": "Python 3"
    }
  },
  "cells": [
    {
      "cell_type": "code",
      "metadata": {
        "id": "Qa6lKWDo6uyI",
        "colab_type": "code",
        "colab": {}
      },
      "source": [
        "import pandas as pd\n",
        "\n",
        "list0 = []\n",
        "\n",
        "#gerando nossos dados\n",
        "for x in range(0, 10000):\n",
        "  list0.append(randint(0, 100))\n",
        "\n",
        "\n",
        "dados = pd.DataFrame(list0, columns = [\"numeros_aleatorios\"]) #criando nossa planilha"
      ],
      "execution_count": null,
      "outputs": []
    }
  ]
}